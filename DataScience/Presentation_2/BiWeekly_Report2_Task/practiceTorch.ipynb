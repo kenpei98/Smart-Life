{
  "nbformat": 4,
  "nbformat_minor": 0,
  "metadata": {
    "colab": {
      "name": "practiceTorch.ipynb",
      "provenance": [],
      "collapsed_sections": []
    },
    "kernelspec": {
      "name": "python3",
      "display_name": "Python 3"
    }
  },
  "cells": [
    {
      "cell_type": "markdown",
      "metadata": {
        "id": "_cOICE4aLMiJ",
        "colab_type": "text"
      },
      "source": [
        "## **Practice with basic Torch**"
      ]
    },
    {
      "cell_type": "markdown",
      "metadata": {
        "id": "DuzJoGA2L6En",
        "colab_type": "text"
      },
      "source": [
        "***1. Dimension of Tensor***"
      ]
    },
    {
      "cell_type": "code",
      "metadata": {
        "id": "xrPs_jcBH25X",
        "colab_type": "code",
        "colab": {
          "base_uri": "https://localhost:8080/",
          "height": 34
        },
        "outputId": "16a81e85-5a53-4e11-c6d1-3a1f834b21d5"
      },
      "source": [
        "#Install torch before imported.\n",
        "!pip3 install torch"
      ],
      "execution_count": 1,
      "outputs": [
        {
          "output_type": "stream",
          "text": [
            "Requirement already satisfied: torch in /usr/local/lib/python3.6/dist-packages (1.4.0)\n"
          ],
          "name": "stdout"
        }
      ]
    },
    {
      "cell_type": "code",
      "metadata": {
        "id": "4Bxr60sKIBxJ",
        "colab_type": "code",
        "colab": {}
      },
      "source": [
        "import torch\n",
        "import matplotlib.pyplot as plt\n",
        "import numpy as np"
      ],
      "execution_count": 0,
      "outputs": []
    },
    {
      "cell_type": "code",
      "metadata": {
        "id": "GL_rpYCjIF2n",
        "colab_type": "code",
        "colab": {
          "base_uri": "https://localhost:8080/",
          "height": 34
        },
        "outputId": "d4f190d6-ffeb-47a3-a81c-b1c749a42406"
      },
      "source": [
        "#one_d means one dimension, is like vector.\n",
        "one_d = torch.arange(0,9)\n",
        "one_d"
      ],
      "execution_count": 3,
      "outputs": [
        {
          "output_type": "execute_result",
          "data": {
            "text/plain": [
              "tensor([0, 1, 2, 3, 4, 5, 6, 7, 8])"
            ]
          },
          "metadata": {
            "tags": []
          },
          "execution_count": 3
        }
      ]
    },
    {
      "cell_type": "code",
      "metadata": {
        "id": "8rr41g6IIM61",
        "colab_type": "code",
        "colab": {
          "base_uri": "https://localhost:8080/",
          "height": 68
        },
        "outputId": "6eaed3b1-7b0a-4418-bdea-243081af2822"
      },
      "source": [
        "#two_d menas two dimension, is like array\n",
        "two_d = one_d.view(3,3) #3 rows and 3 columns\n",
        "two_d"
      ],
      "execution_count": 4,
      "outputs": [
        {
          "output_type": "execute_result",
          "data": {
            "text/plain": [
              "tensor([[0, 1, 2],\n",
              "        [3, 4, 5],\n",
              "        [6, 7, 8]])"
            ]
          },
          "metadata": {
            "tags": []
          },
          "execution_count": 4
        }
      ]
    },
    {
      "cell_type": "code",
      "metadata": {
        "id": "l_nLBl3_JOR6",
        "colab_type": "code",
        "colab": {
          "base_uri": "https://localhost:8080/",
          "height": 34
        },
        "outputId": "829f57c3-c592-4535-d6a3-3f6bb9a7e7fa"
      },
      "source": [
        "two_d.dim() #It is two dimensions"
      ],
      "execution_count": 5,
      "outputs": [
        {
          "output_type": "execute_result",
          "data": {
            "text/plain": [
              "2"
            ]
          },
          "metadata": {
            "tags": []
          },
          "execution_count": 5
        }
      ]
    },
    {
      "cell_type": "code",
      "metadata": {
        "id": "zj5Kb1LJJp03",
        "colab_type": "code",
        "colab": {
          "base_uri": "https://localhost:8080/",
          "height": 34
        },
        "outputId": "592aa437-3a96-4590-aa52-313efdf88aca"
      },
      "source": [
        "two_d[1,2]"
      ],
      "execution_count": 6,
      "outputs": [
        {
          "output_type": "execute_result",
          "data": {
            "text/plain": [
              "tensor(5)"
            ]
          },
          "metadata": {
            "tags": []
          },
          "execution_count": 6
        }
      ]
    },
    {
      "cell_type": "code",
      "metadata": {
        "id": "92NHftSSJ628",
        "colab_type": "code",
        "colab": {
          "base_uri": "https://localhost:8080/",
          "height": 34
        },
        "outputId": "dd7313ae-bc77-4757-af1f-c1b95d976c26"
      },
      "source": [
        "two_d[2,0]"
      ],
      "execution_count": 7,
      "outputs": [
        {
          "output_type": "execute_result",
          "data": {
            "text/plain": [
              "tensor(6)"
            ]
          },
          "metadata": {
            "tags": []
          },
          "execution_count": 7
        }
      ]
    },
    {
      "cell_type": "code",
      "metadata": {
        "id": "6voBo31gKmRM",
        "colab_type": "code",
        "colab": {
          "base_uri": "https://localhost:8080/",
          "height": 136
        },
        "outputId": "494589ec-eea8-4265-e3c0-4bff0afe6c11"
      },
      "source": [
        "x = torch.arange(18).view(2,3,3) #three dimensional with two blocks and each block with 3 rows and 3 columns.\n",
        "x"
      ],
      "execution_count": 8,
      "outputs": [
        {
          "output_type": "execute_result",
          "data": {
            "text/plain": [
              "tensor([[[ 0,  1,  2],\n",
              "         [ 3,  4,  5],\n",
              "         [ 6,  7,  8]],\n",
              "\n",
              "        [[ 9, 10, 11],\n",
              "         [12, 13, 14],\n",
              "         [15, 16, 17]]])"
            ]
          },
          "metadata": {
            "tags": []
          },
          "execution_count": 8
        }
      ]
    },
    {
      "cell_type": "code",
      "metadata": {
        "id": "nJngTKlhMWKV",
        "colab_type": "code",
        "colab": {
          "base_uri": "https://localhost:8080/",
          "height": 153
        },
        "outputId": "de17bbb1-167b-4ea5-e22b-9cdb7c2a7b10"
      },
      "source": [
        "x2 = torch.arange(18).view(3,2,3) #three dimensional with three blocks and each block with 2 rows and 3 columns.\n",
        "x2"
      ],
      "execution_count": 9,
      "outputs": [
        {
          "output_type": "execute_result",
          "data": {
            "text/plain": [
              "tensor([[[ 0,  1,  2],\n",
              "         [ 3,  4,  5]],\n",
              "\n",
              "        [[ 6,  7,  8],\n",
              "         [ 9, 10, 11]],\n",
              "\n",
              "        [[12, 13, 14],\n",
              "         [15, 16, 17]]])"
            ]
          },
          "metadata": {
            "tags": []
          },
          "execution_count": 9
        }
      ]
    },
    {
      "cell_type": "code",
      "metadata": {
        "id": "-zALKvCrNfWc",
        "colab_type": "code",
        "colab": {
          "base_uri": "https://localhost:8080/",
          "height": 51
        },
        "outputId": "d5e7defe-3dca-43bd-c834-f7b1a487e1c0"
      },
      "source": [
        "#3 Ways of slicing 3D tensor.\n",
        "x2[1] "
      ],
      "execution_count": 10,
      "outputs": [
        {
          "output_type": "execute_result",
          "data": {
            "text/plain": [
              "tensor([[ 6,  7,  8],\n",
              "        [ 9, 10, 11]])"
            ]
          },
          "metadata": {
            "tags": []
          },
          "execution_count": 10
        }
      ]
    },
    {
      "cell_type": "code",
      "metadata": {
        "id": "x83pL2RHNv-3",
        "colab_type": "code",
        "colab": {
          "base_uri": "https://localhost:8080/",
          "height": 51
        },
        "outputId": "d1ceea71-6f3b-4b29-c88f-8b8492211790"
      },
      "source": [
        "x2[1,0:2,0:3] "
      ],
      "execution_count": 11,
      "outputs": [
        {
          "output_type": "execute_result",
          "data": {
            "text/plain": [
              "tensor([[ 6,  7,  8],\n",
              "        [ 9, 10, 11]])"
            ]
          },
          "metadata": {
            "tags": []
          },
          "execution_count": 11
        }
      ]
    },
    {
      "cell_type": "code",
      "metadata": {
        "id": "izW8lXCcOIMC",
        "colab_type": "code",
        "colab": {
          "base_uri": "https://localhost:8080/",
          "height": 51
        },
        "outputId": "38b1b3f3-9abd-4c73-806a-dfbdf82d2352"
      },
      "source": [
        "x2[1,:,:]"
      ],
      "execution_count": 12,
      "outputs": [
        {
          "output_type": "execute_result",
          "data": {
            "text/plain": [
              "tensor([[ 6,  7,  8],\n",
              "        [ 9, 10, 11]])"
            ]
          },
          "metadata": {
            "tags": []
          },
          "execution_count": 12
        }
      ]
    },
    {
      "cell_type": "markdown",
      "metadata": {
        "id": "FhhbAWIVPWMo",
        "colab_type": "text"
      },
      "source": [
        "***2. Vector Operations***"
      ]
    },
    {
      "cell_type": "code",
      "metadata": {
        "id": "QB1R4QR7PdZc",
        "colab_type": "code",
        "colab": {
          "base_uri": "https://localhost:8080/",
          "height": 34
        },
        "outputId": "84d5dcd4-62e8-41fb-c2e3-fe7434ed269e"
      },
      "source": [
        "t_one = torch.tensor([1,2,3])\n",
        "t_two = torch.tensor([1,2,3])\n",
        "t_one * t_two"
      ],
      "execution_count": 13,
      "outputs": [
        {
          "output_type": "execute_result",
          "data": {
            "text/plain": [
              "tensor([1, 4, 9])"
            ]
          },
          "metadata": {
            "tags": []
          },
          "execution_count": 13
        }
      ]
    },
    {
      "cell_type": "code",
      "metadata": {
        "id": "lBJ-bvoBPdkB",
        "colab_type": "code",
        "colab": {
          "base_uri": "https://localhost:8080/",
          "height": 34
        },
        "outputId": "5223878d-7930-40bb-f9e2-658314973a7a"
      },
      "source": [
        "dot_product = torch.dot(t_one, t_two) #dot product\n",
        "print(dot_product)"
      ],
      "execution_count": 14,
      "outputs": [
        {
          "output_type": "stream",
          "text": [
            "tensor(14)\n"
          ],
          "name": "stdout"
        }
      ]
    },
    {
      "cell_type": "code",
      "metadata": {
        "id": "Lhye2l95Pdm_",
        "colab_type": "code",
        "colab": {
          "base_uri": "https://localhost:8080/",
          "height": 238
        },
        "outputId": "6b1e67ca-3f6b-4c98-9170-5347a581d177"
      },
      "source": [
        "torch.linspace(0,10) #print out 100 equally spaced numbers between 0-10."
      ],
      "execution_count": 15,
      "outputs": [
        {
          "output_type": "execute_result",
          "data": {
            "text/plain": [
              "tensor([ 0.0000,  0.1010,  0.2020,  0.3030,  0.4040,  0.5051,  0.6061,  0.7071,\n",
              "         0.8081,  0.9091,  1.0101,  1.1111,  1.2121,  1.3131,  1.4141,  1.5152,\n",
              "         1.6162,  1.7172,  1.8182,  1.9192,  2.0202,  2.1212,  2.2222,  2.3232,\n",
              "         2.4242,  2.5253,  2.6263,  2.7273,  2.8283,  2.9293,  3.0303,  3.1313,\n",
              "         3.2323,  3.3333,  3.4343,  3.5354,  3.6364,  3.7374,  3.8384,  3.9394,\n",
              "         4.0404,  4.1414,  4.2424,  4.3434,  4.4444,  4.5455,  4.6465,  4.7475,\n",
              "         4.8485,  4.9495,  5.0505,  5.1515,  5.2525,  5.3535,  5.4545,  5.5556,\n",
              "         5.6566,  5.7576,  5.8586,  5.9596,  6.0606,  6.1616,  6.2626,  6.3636,\n",
              "         6.4646,  6.5657,  6.6667,  6.7677,  6.8687,  6.9697,  7.0707,  7.1717,\n",
              "         7.2727,  7.3737,  7.4747,  7.5758,  7.6768,  7.7778,  7.8788,  7.9798,\n",
              "         8.0808,  8.1818,  8.2828,  8.3838,  8.4848,  8.5859,  8.6869,  8.7879,\n",
              "         8.8889,  8.9899,  9.0909,  9.1919,  9.2929,  9.3939,  9.4949,  9.5960,\n",
              "         9.6970,  9.7980,  9.8990, 10.0000])"
            ]
          },
          "metadata": {
            "tags": []
          },
          "execution_count": 15
        }
      ]
    },
    {
      "cell_type": "code",
      "metadata": {
        "id": "n4b56_CuPdp2",
        "colab_type": "code",
        "colab": {
          "base_uri": "https://localhost:8080/",
          "height": 34
        },
        "outputId": "448322c3-ada0-46f8-927f-1490d117d7cc"
      },
      "source": [
        "torch.linspace(0,10,5) #print out 5 equally spaced numbers between 0-10."
      ],
      "execution_count": 16,
      "outputs": [
        {
          "output_type": "execute_result",
          "data": {
            "text/plain": [
              "tensor([ 0.0000,  2.5000,  5.0000,  7.5000, 10.0000])"
            ]
          },
          "metadata": {
            "tags": []
          },
          "execution_count": 16
        }
      ]
    },
    {
      "cell_type": "code",
      "metadata": {
        "id": "M4-YqidkRC8g",
        "colab_type": "code",
        "colab": {
          "base_uri": "https://localhost:8080/",
          "height": 282
        },
        "outputId": "67f93f67-09fc-4ada-d88b-86c36c244767"
      },
      "source": [
        "#import matplotlib.pyplot as plt\n",
        "x=torch.linspace(0,10,100)\n",
        "y=torch.exp(x)\n",
        "plt.plot(x.numpy(),y.numpy()) #since matplotlib is use for numpy, we need to transfer the tensor to numpy use x.numpy() or y.numpy()."
      ],
      "execution_count": 17,
      "outputs": [
        {
          "output_type": "execute_result",
          "data": {
            "text/plain": [
              "[<matplotlib.lines.Line2D at 0x7f2281044860>]"
            ]
          },
          "metadata": {
            "tags": []
          },
          "execution_count": 17
        },
        {
          "output_type": "display_data",
          "data": {
            "image/png": "[encoded data removed]",
            "text/plain": [
              "<Figure size 432x288 with 1 Axes>"
            ]
          },
          "metadata": {
            "tags": [],
            "needs_background": "light"
          }
        }
      ]
    },
    {
      "cell_type": "code",
      "metadata": {
        "id": "QjB9HGDCRW5o",
        "colab_type": "code",
        "colab": {
          "base_uri": "https://localhost:8080/",
          "height": 282
        },
        "outputId": "fbff6773-13c3-4610-dfaa-51b913b81ddd"
      },
      "source": [
        "z=torch.sin(x)\n",
        "plt.plot(x.numpy(), z.numpy())"
      ],
      "execution_count": 18,
      "outputs": [
        {
          "output_type": "execute_result",
          "data": {
            "text/plain": [
              "[<matplotlib.lines.Line2D at 0x7f2280b91828>]"
            ]
          },
          "metadata": {
            "tags": []
          },
          "execution_count": 18
        },
        {
          "output_type": "display_data",
          "data": {
            "image/png": "[encoded data removed]",
            "text/plain": [
              "<Figure size 432x288 with 1 Axes>"
            ]
          },
          "metadata": {
            "tags": [],
            "needs_background": "light"
          }
        }
      ]
    },
    {
      "cell_type": "markdown",
      "metadata": {
        "id": "mmduZZaWd7aZ",
        "colab_type": "text"
      },
      "source": [
        "***3. Matrix Multiplication***"
      ]
    },
    {
      "cell_type": "code",
      "metadata": {
        "id": "FsMNiW2oeBOd",
        "colab_type": "code",
        "colab": {
          "base_uri": "https://localhost:8080/",
          "height": 51
        },
        "outputId": "6646cb23-f319-4a08-b76f-365e2937903d"
      },
      "source": [
        "mat_a = torch.tensor([0,3,5,5,5,2]).view(2,3) #Create matrix a with 2 by 3\n",
        "mat_a"
      ],
      "execution_count": 19,
      "outputs": [
        {
          "output_type": "execute_result",
          "data": {
            "text/plain": [
              "tensor([[0, 3, 5],\n",
              "        [5, 5, 2]])"
            ]
          },
          "metadata": {
            "tags": []
          },
          "execution_count": 19
        }
      ]
    },
    {
      "cell_type": "code",
      "metadata": {
        "id": "sGUz6rU5eBXH",
        "colab_type": "code",
        "colab": {
          "base_uri": "https://localhost:8080/",
          "height": 68
        },
        "outputId": "53c3750d-0064-44f0-936b-e4de9f77a677"
      },
      "source": [
        "mat_b = torch.tensor([3,4,3,-2,4,-2]).view(3,2) #Create matrix b with 3 by 2\n",
        "mat_b"
      ],
      "execution_count": 20,
      "outputs": [
        {
          "output_type": "execute_result",
          "data": {
            "text/plain": [
              "tensor([[ 3,  4],\n",
              "        [ 3, -2],\n",
              "        [ 4, -2]])"
            ]
          },
          "metadata": {
            "tags": []
          },
          "execution_count": 20
        }
      ]
    },
    {
      "cell_type": "code",
      "metadata": {
        "id": "ZE6sfinHeBZ4",
        "colab_type": "code",
        "colab": {
          "base_uri": "https://localhost:8080/",
          "height": 51
        },
        "outputId": "f089f170-1467-4770-a4b8-faaff889ed5a"
      },
      "source": [
        "torch.matmul(mat_a, mat_b) #one way for implement matrix multiplication"
      ],
      "execution_count": 21,
      "outputs": [
        {
          "output_type": "execute_result",
          "data": {
            "text/plain": [
              "tensor([[ 29, -16],\n",
              "        [ 38,   6]])"
            ]
          },
          "metadata": {
            "tags": []
          },
          "execution_count": 21
        }
      ]
    },
    {
      "cell_type": "code",
      "metadata": {
        "id": "061t5GV9eBdg",
        "colab_type": "code",
        "colab": {
          "base_uri": "https://localhost:8080/",
          "height": 51
        },
        "outputId": "4ad07ff8-6861-4681-bede-4cbc57ba8f53"
      },
      "source": [
        "mat_a @ mat_b #second way for implement matrix multiplication"
      ],
      "execution_count": 22,
      "outputs": [
        {
          "output_type": "execute_result",
          "data": {
            "text/plain": [
              "tensor([[ 29, -16],\n",
              "        [ 38,   6]])"
            ]
          },
          "metadata": {
            "tags": []
          },
          "execution_count": 22
        }
      ]
    },
    {
      "cell_type": "markdown",
      "metadata": {
        "id": "JvfAcnfEhbR4",
        "colab_type": "text"
      },
      "source": [
        "***4. Gradient With Pytorch***"
      ]
    },
    {
      "cell_type": "code",
      "metadata": {
        "id": "Ys3RhTKahjCR",
        "colab_type": "code",
        "colab": {
          "base_uri": "https://localhost:8080/",
          "height": 34
        },
        "outputId": "59cf1dc3-e50a-45d6-cc28-ac1428d35de5"
      },
      "source": [
        "x = torch.tensor(2.0, requires_grad=True) #gradient = True\n",
        "y = 9*x**4 + 2*x**3 + 3*x**2 + 6*x + 1\n",
        "y.backward() #compute derivative of y function\n",
        "x.grad #access x=2 value"
      ],
      "execution_count": 23,
      "outputs": [
        {
          "output_type": "execute_result",
          "data": {
            "text/plain": [
              "tensor(330.)"
            ]
          },
          "metadata": {
            "tags": []
          },
          "execution_count": 23
        }
      ]
    },
    {
      "cell_type": "code",
      "metadata": {
        "id": "UqD4i6Amjl0Q",
        "colab_type": "code",
        "colab": {
          "base_uri": "https://localhost:8080/",
          "height": 34
        },
        "outputId": "55e191e7-05a4-4e7b-833d-eaa1c2e0419b"
      },
      "source": [
        "a = torch.tensor(1.0, requires_grad=True)\n",
        "b = torch.tensor(2.0, requires_grad=True)\n",
        "y = a**2+b**3\n",
        "y.backward()\n",
        "a.grad"
      ],
      "execution_count": 24,
      "outputs": [
        {
          "output_type": "execute_result",
          "data": {
            "text/plain": [
              "tensor(2.)"
            ]
          },
          "metadata": {
            "tags": []
          },
          "execution_count": 24
        }
      ]
    },
    {
      "cell_type": "code",
      "metadata": {
        "id": "KHVGedvxkIAm",
        "colab_type": "code",
        "colab": {
          "base_uri": "https://localhost:8080/",
          "height": 34
        },
        "outputId": "396c0595-c373-4765-d660-50bb7aeeeea2"
      },
      "source": [
        "b.grad"
      ],
      "execution_count": 25,
      "outputs": [
        {
          "output_type": "execute_result",
          "data": {
            "text/plain": [
              "tensor(12.)"
            ]
          },
          "metadata": {
            "tags": []
          },
          "execution_count": 25
        }
      ]
    },
    {
      "cell_type": "markdown",
      "metadata": {
        "id": "LbajcjTqqHe5",
        "colab_type": "text"
      },
      "source": [
        "***5. Linear Regresssion***"
      ]
    },
    {
      "cell_type": "code",
      "metadata": {
        "id": "VJT7eSZEqOER",
        "colab_type": "code",
        "colab": {}
      },
      "source": [
        "w = torch.tensor(3.0, requires_grad=True)\n",
        "b = torch.tensor(1.0, requires_grad=True)\n"
      ],
      "execution_count": 0,
      "outputs": []
    },
    {
      "cell_type": "code",
      "metadata": {
        "id": "YLsfUdUdqOmu",
        "colab_type": "code",
        "colab": {}
      },
      "source": [
        "def forward(x):\n",
        "  y = w*x + b\n",
        "  return y"
      ],
      "execution_count": 0,
      "outputs": []
    },
    {
      "cell_type": "code",
      "metadata": {
        "id": "U5XE4RkHqO1e",
        "colab_type": "code",
        "colab": {
          "base_uri": "https://localhost:8080/",
          "height": 34
        },
        "outputId": "5addccfd-d2f1-47af-89dd-b2ddba8bb9ae"
      },
      "source": [
        "x = torch.tensor(2)\n",
        "forward(x)"
      ],
      "execution_count": 28,
      "outputs": [
        {
          "output_type": "execute_result",
          "data": {
            "text/plain": [
              "tensor(7., grad_fn=<AddBackward0>)"
            ]
          },
          "metadata": {
            "tags": []
          },
          "execution_count": 28
        }
      ]
    },
    {
      "cell_type": "code",
      "metadata": {
        "id": "_lPgKFekqPAH",
        "colab_type": "code",
        "colab": {
          "base_uri": "https://localhost:8080/",
          "height": 51
        },
        "outputId": "413acb3b-d636-41a9-80af-ba2b270f7621"
      },
      "source": [
        "x = torch.tensor([[4], [7]])\n",
        "forward(x)"
      ],
      "execution_count": 29,
      "outputs": [
        {
          "output_type": "execute_result",
          "data": {
            "text/plain": [
              "tensor([[13.],\n",
              "        [22.]], grad_fn=<AddBackward0>)"
            ]
          },
          "metadata": {
            "tags": []
          },
          "execution_count": 29
        }
      ]
    },
    {
      "cell_type": "code",
      "metadata": {
        "id": "hd32bKENrwnY",
        "colab_type": "code",
        "colab": {
          "base_uri": "https://localhost:8080/",
          "height": 34
        },
        "outputId": "2c3dc4a6-b937-4500-f241-a0c32f87566f"
      },
      "source": [
        "x = torch.tensor([4,7])\n",
        "forward(x)"
      ],
      "execution_count": 30,
      "outputs": [
        {
          "output_type": "execute_result",
          "data": {
            "text/plain": [
              "tensor([13., 22.], grad_fn=<AddBackward0>)"
            ]
          },
          "metadata": {
            "tags": []
          },
          "execution_count": 30
        }
      ]
    },
    {
      "cell_type": "markdown",
      "metadata": {
        "id": "IIj63R78zVjB",
        "colab_type": "text"
      },
      "source": [
        "**-Linear Class from nn module**"
      ]
    },
    {
      "cell_type": "code",
      "metadata": {
        "id": "yzD0X6wKrwrh",
        "colab_type": "code",
        "colab": {}
      },
      "source": [
        "from torch.nn import Linear #Import Linear class from nn module"
      ],
      "execution_count": 0,
      "outputs": []
    },
    {
      "cell_type": "code",
      "metadata": {
        "id": "6Mz6hd0ysp5a",
        "colab_type": "code",
        "colab": {
          "base_uri": "https://localhost:8080/",
          "height": 68
        },
        "outputId": "73c751af-c788-44bb-accc-b68b8587fddf"
      },
      "source": [
        "torch.manual_seed(1)#set a seed for generate a random number.\n",
        "model = Linear(in_features=1, out_features=1)\n",
        "print(model.bias, model.weight)  #y = 0.5153*x - 0.4414"
      ],
      "execution_count": 32,
      "outputs": [
        {
          "output_type": "stream",
          "text": [
            "Parameter containing:\n",
            "tensor([-0.4414], requires_grad=True) Parameter containing:\n",
            "tensor([[0.5153]], requires_grad=True)\n"
          ],
          "name": "stdout"
        }
      ]
    },
    {
      "cell_type": "code",
      "metadata": {
        "id": "9n1-AJWzsqBx",
        "colab_type": "code",
        "colab": {
          "base_uri": "https://localhost:8080/",
          "height": 34
        },
        "outputId": "e163de44-98fc-4182-da84-83e17610b7f8"
      },
      "source": [
        "x = torch.tensor([2.0])\n",
        "print(model(x)) #0.5891"
      ],
      "execution_count": 33,
      "outputs": [
        {
          "output_type": "stream",
          "text": [
            "tensor([0.5891], grad_fn=<AddBackward0>)\n"
          ],
          "name": "stdout"
        }
      ]
    },
    {
      "cell_type": "code",
      "metadata": {
        "id": "ry3pC9Z6sqFm",
        "colab_type": "code",
        "colab": {
          "base_uri": "https://localhost:8080/",
          "height": 51
        },
        "outputId": "869315b1-941a-4035-d277-2cbb127725fb"
      },
      "source": [
        "x = torch.tensor([[2.0],[3.3]])\n",
        "print(model(x))"
      ],
      "execution_count": 34,
      "outputs": [
        {
          "output_type": "stream",
          "text": [
            "tensor([[0.5891],\n",
            "        [1.2590]], grad_fn=<AddmmBackward>)\n"
          ],
          "name": "stdout"
        }
      ]
    },
    {
      "cell_type": "markdown",
      "metadata": {
        "id": "NcHkIf8JuzY3",
        "colab_type": "text"
      },
      "source": [
        "**-Custom Module**"
      ]
    },
    {
      "cell_type": "code",
      "metadata": {
        "id": "6Sz04I0MsqQv",
        "colab_type": "code",
        "colab": {}
      },
      "source": [
        "import torch.nn as nn\n",
        "class LR(nn.Module): #This LR model is sub-module for nn.Module\n",
        "  def __init__(self, input_size, output_size): #constructor to construct new instances of this class\n",
        "    super().__init__()\n",
        "    self.linear = nn.Linear(input_size, output_size)\n",
        "\n",
        "  def forward(self, x):\n",
        "    pred = self.linear(x)\n",
        "    return pred\n",
        "    "
      ],
      "execution_count": 0,
      "outputs": []
    },
    {
      "cell_type": "code",
      "metadata": {
        "id": "rFapd5YHx4kk",
        "colab_type": "code",
        "colab": {
          "base_uri": "https://localhost:8080/",
          "height": 68
        },
        "outputId": "211bb4a3-d729-47e4-8bb9-fb66830290ac"
      },
      "source": [
        "torch.manual_seed(1)\n",
        "model = LR(1,1) #use (1,1) similar to before  \n",
        "print(list(model.parameters()))  #y = 0.5153*x - 0.4414"
      ],
      "execution_count": 36,
      "outputs": [
        {
          "output_type": "stream",
          "text": [
            "[Parameter containing:\n",
            "tensor([[0.5153]], requires_grad=True), Parameter containing:\n",
            "tensor([-0.4414], requires_grad=True)]\n"
          ],
          "name": "stdout"
        }
      ]
    },
    {
      "cell_type": "code",
      "metadata": {
        "id": "UWmo-yomx4q3",
        "colab_type": "code",
        "colab": {
          "base_uri": "https://localhost:8080/",
          "height": 34
        },
        "outputId": "674e1215-dc6b-419d-b511-591cf871eaff"
      },
      "source": [
        "x = torch.tensor([1.0])\n",
        "print(model.forward(x))"
      ],
      "execution_count": 37,
      "outputs": [
        {
          "output_type": "stream",
          "text": [
            "tensor([0.0739], grad_fn=<AddBackward0>)\n"
          ],
          "name": "stdout"
        }
      ]
    },
    {
      "cell_type": "code",
      "metadata": {
        "id": "n5QUfFSmx4y9",
        "colab_type": "code",
        "colab": {
          "base_uri": "https://localhost:8080/",
          "height": 51
        },
        "outputId": "4b59841f-26ff-439a-d0a6-cba6c7b7986c"
      },
      "source": [
        "x = torch.tensor([[1.0],[2.0]])\n",
        "print(model.forward(x))"
      ],
      "execution_count": 38,
      "outputs": [
        {
          "output_type": "stream",
          "text": [
            "tensor([[0.0739],\n",
            "        [0.5891]], grad_fn=<AddmmBackward>)\n"
          ],
          "name": "stdout"
        }
      ]
    },
    {
      "cell_type": "markdown",
      "metadata": {
        "id": "RdFRnD_jBuiy",
        "colab_type": "text"
      },
      "source": [
        "***-Create a Dataset and Use Custom Model (above) to fit dataset***"
      ]
    },
    {
      "cell_type": "code",
      "metadata": {
        "id": "FB8wAX7-x42z",
        "colab_type": "code",
        "colab": {
          "base_uri": "https://localhost:8080/",
          "height": 296
        },
        "outputId": "8270535b-39b6-40f3-fabd-596fe068c93b"
      },
      "source": [
        "#Create a dataset\n",
        "X= torch.randn(100,1) * 10 #Since randn(100,1) will generate amount of small numbers since it center at 0, thus we want * 10 to get larger number.\n",
        "y = X + 3*torch.randn(100,1) #Add some noise which use 3*torch.randn(100,1)\n",
        "\n",
        "#print(X)\n",
        "plt.plot(X.numpy(), y.numpy(), 'o') #Since matplotlib support numpy array, use X.numpy() to change from torch to numpy.\n",
        "plt.ylabel('y')\n",
        "plt.xlabel('x')"
      ],
      "execution_count": 39,
      "outputs": [
        {
          "output_type": "execute_result",
          "data": {
            "text/plain": [
              "Text(0.5, 0, 'x')"
            ]
          },
          "metadata": {
            "tags": []
          },
          "execution_count": 39
        },
        {
          "output_type": "display_data",
          "data": {
            "image/png": "[encoded data removed]",
            "text/plain": [
              "<Figure size 432x288 with 1 Axes>"
            ]
          },
          "metadata": {
            "tags": [],
            "needs_background": "light"
          }
        }
      ]
    },
    {
      "cell_type": "code",
      "metadata": {
        "id": "QBBAyb2B6OM3",
        "colab_type": "code",
        "colab": {
          "base_uri": "https://localhost:8080/",
          "height": 68
        },
        "outputId": "c3cfe294-b6d1-402a-ad97-46ba0cece202"
      },
      "source": [
        "#Use custom model we have to train a model that fit this dataset\n",
        "#**command+M+D to delete cell\n",
        "torch.manual_seed(1)\n",
        "model = LR(1,1)\n",
        "print(model)"
      ],
      "execution_count": 40,
      "outputs": [
        {
          "output_type": "stream",
          "text": [
            "LR(\n",
            "  (linear): Linear(in_features=1, out_features=1, bias=True)\n",
            ")\n"
          ],
          "name": "stdout"
        }
      ]
    },
    {
      "cell_type": "code",
      "metadata": {
        "id": "sZ8L2yuM6OKE",
        "colab_type": "code",
        "colab": {}
      },
      "source": [
        "[w,b] = model.parameters()\n",
        "#print(w,b)\n",
        "#w1 = w[0][0].item\n",
        "#b1 = b[0].item()\n",
        "#print(w1,b1)\n",
        "\n",
        "def get_params():\n",
        "  return (w[0][0].item(), b[0].item())"
      ],
      "execution_count": 0,
      "outputs": []
    },
    {
      "cell_type": "code",
      "metadata": {
        "id": "NVKbYSH2Ag9g",
        "colab_type": "code",
        "colab": {}
      },
      "source": [
        "def plot_fit(title):\n",
        "  plt.title = title\n",
        "  w1, b1 = get_params()\n",
        "  x1 = np.array([-30,30])\n",
        "  y1 = w1*x1 + b1\n",
        "  plt.plot(x1, y1, 'r')\n",
        "  plt.scatter(X,y)\n",
        "  plt.show()"
      ],
      "execution_count": 0,
      "outputs": []
    },
    {
      "cell_type": "code",
      "metadata": {
        "id": "QBeWDLoPAhI0",
        "colab_type": "code",
        "colab": {
          "base_uri": "https://localhost:8080/",
          "height": 265
        },
        "outputId": "9eb24623-644f-48c1-f195-32f1c5af11ae"
      },
      "source": [
        "plot_fit('Initial Model') #This is not a good line to best fit our data, we will try use gradient descent to adjust it."
      ],
      "execution_count": 43,
      "outputs": [
        {
          "output_type": "display_data",
          "data": {
            "image/png": "[encoded data removed]",
            "text/plain": [
              "<Figure size 432x288 with 1 Axes>"
            ]
          },
          "metadata": {
            "tags": [],
            "needs_background": "light"
          }
        }
      ]
    },
    {
      "cell_type": "markdown",
      "metadata": {
        "id": "-373JT6RV9C6",
        "colab_type": "text"
      },
      "source": [
        "***-Gradient Descent:*** \n",
        "We start with some random model with random set of weight and bias value parameters, this random model will tend to have a large error function, thus use gradient descent to update the weights of our model and get minimize error, return a optimized model at the end."
      ]
    },
    {
      "cell_type": "code",
      "metadata": {
        "id": "sx8PL2gYKIUL",
        "colab_type": "code",
        "colab": {}
      },
      "source": [
        "#Specify loss function, there's an easy way to specify the loss function using pytorch.\n",
        "criterion = nn.MSELoss() #Mean Square Loss\n",
        "optimizer = torch.optim.SGD(model.parameters(), lr = 1e-3) #use to update the parameters, we use stochastic gradient descent. \"lr\" is learning rate.\n"
      ],
      "execution_count": 0,
      "outputs": []
    },
    {
      "cell_type": "code",
      "metadata": {
        "id": "0OAIDttHk9gQ",
        "colab_type": "code",
        "colab": {
          "base_uri": "https://localhost:8080/",
          "height": 1000
        },
        "outputId": "085bb72c-6fdd-470e-dd57-abc54c21e508"
      },
      "source": [
        "#A epoch is whenever we perform a single pass through the entire dataset as we iterate through this dataset to calculate the error function, and back propagated the gradient of this error function to update the weights. \n",
        "#We want multiple epochs to iterative the process multiple times for full dataset to ensure an optimized result.\n",
        "#For deciding the number of epochs, careful for (too many epochs)overfit or underfit.\n",
        "epochs = 100\n",
        "losses = [] #Create a list\n",
        "for i in range(epochs):\n",
        "\n",
        "  #calculate error function:\n",
        "  y_pred = model.forward(X)\n",
        "  loss = criterion(y_pred, y)  #y_pred is predicted y values base on X, y is actual value\n",
        "  print(\"epoch:\", i, \"loss:\", loss.item())\n",
        "  losses.append(loss)\n",
        "  optimizer.zero_grad() #set gradient to 0, since the gradient accumulate following loss.backward()\n",
        "  #gradient of the loss function: derivative\n",
        "  loss.backward() #derivative the loss function\n",
        "  optimizer.step() #update parameters for our model\n",
        "\n",
        "#Conclusion: As epoch increase, the loss is decrease, which is good."
      ],
      "execution_count": 45,
      "outputs": [
        {
          "output_type": "stream",
          "text": [
            "epoch: 0 loss: 36.448333740234375\n",
            "epoch: 1 loss: 25.847068786621094\n",
            "epoch: 2 loss: 19.274919509887695\n",
            "epoch: 3 loss: 15.200483322143555\n",
            "epoch: 4 loss: 12.674422264099121\n",
            "epoch: 5 loss: 11.108229637145996\n",
            "epoch: 6 loss: 10.137073516845703\n",
            "epoch: 7 loss: 9.53479290008545\n",
            "epoch: 8 loss: 9.161184310913086\n",
            "epoch: 9 loss: 8.92933464050293\n",
            "epoch: 10 loss: 8.785365104675293\n",
            "epoch: 11 loss: 8.695876121520996\n",
            "epoch: 12 loss: 8.640158653259277\n",
            "epoch: 13 loss: 8.605379104614258\n",
            "epoch: 14 loss: 8.583581924438477\n",
            "epoch: 15 loss: 8.569830894470215\n",
            "epoch: 16 loss: 8.56106948852539\n",
            "epoch: 17 loss: 8.555403709411621\n",
            "epoch: 18 loss: 8.551655769348145\n",
            "epoch: 19 loss: 8.549100875854492\n",
            "epoch: 20 loss: 8.547282218933105\n",
            "epoch: 21 loss: 8.545923233032227\n",
            "epoch: 22 loss: 8.54485034942627\n",
            "epoch: 23 loss: 8.54395580291748\n",
            "epoch: 24 loss: 8.543170928955078\n",
            "epoch: 25 loss: 8.542455673217773\n",
            "epoch: 26 loss: 8.541786193847656\n",
            "epoch: 27 loss: 8.541145324707031\n",
            "epoch: 28 loss: 8.540521621704102\n",
            "epoch: 29 loss: 8.539910316467285\n",
            "epoch: 30 loss: 8.539307594299316\n",
            "epoch: 31 loss: 8.538711547851562\n",
            "epoch: 32 loss: 8.538119316101074\n",
            "epoch: 33 loss: 8.537530899047852\n",
            "epoch: 34 loss: 8.536946296691895\n",
            "epoch: 35 loss: 8.536364555358887\n",
            "epoch: 36 loss: 8.535785675048828\n",
            "epoch: 37 loss: 8.535205841064453\n",
            "epoch: 38 loss: 8.53463363647461\n",
            "epoch: 39 loss: 8.534061431884766\n",
            "epoch: 40 loss: 8.533492088317871\n",
            "epoch: 41 loss: 8.532923698425293\n",
            "epoch: 42 loss: 8.532360076904297\n",
            "epoch: 43 loss: 8.5317964553833\n",
            "epoch: 44 loss: 8.531234741210938\n",
            "epoch: 45 loss: 8.530675888061523\n",
            "epoch: 46 loss: 8.530118942260742\n",
            "epoch: 47 loss: 8.529566764831543\n",
            "epoch: 48 loss: 8.529012680053711\n",
            "epoch: 49 loss: 8.528462409973145\n",
            "epoch: 50 loss: 8.527915000915527\n",
            "epoch: 51 loss: 8.52737045288086\n",
            "epoch: 52 loss: 8.526825904846191\n",
            "epoch: 53 loss: 8.526285171508789\n",
            "epoch: 54 loss: 8.525744438171387\n",
            "epoch: 55 loss: 8.52520751953125\n",
            "epoch: 56 loss: 8.524674415588379\n",
            "epoch: 57 loss: 8.524140357971191\n",
            "epoch: 58 loss: 8.523609161376953\n",
            "epoch: 59 loss: 8.523080825805664\n",
            "epoch: 60 loss: 8.522553443908691\n",
            "epoch: 61 loss: 8.522029876708984\n",
            "epoch: 62 loss: 8.521506309509277\n",
            "epoch: 63 loss: 8.52098560333252\n",
            "epoch: 64 loss: 8.520466804504395\n",
            "epoch: 65 loss: 8.519950866699219\n",
            "epoch: 66 loss: 8.51943588256836\n",
            "epoch: 67 loss: 8.51892375946045\n",
            "epoch: 68 loss: 8.518413543701172\n",
            "epoch: 69 loss: 8.517904281616211\n",
            "epoch: 70 loss: 8.517398834228516\n",
            "epoch: 71 loss: 8.516894340515137\n",
            "epoch: 72 loss: 8.51639175415039\n",
            "epoch: 73 loss: 8.515890121459961\n",
            "epoch: 74 loss: 8.515392303466797\n",
            "epoch: 75 loss: 8.51489543914795\n",
            "epoch: 76 loss: 8.51440143585205\n",
            "epoch: 77 loss: 8.513909339904785\n",
            "epoch: 78 loss: 8.513418197631836\n",
            "epoch: 79 loss: 8.512928009033203\n",
            "epoch: 80 loss: 8.512441635131836\n",
            "epoch: 81 loss: 8.511958122253418\n",
            "epoch: 82 loss: 8.511474609375\n",
            "epoch: 83 loss: 8.510993957519531\n",
            "epoch: 84 loss: 8.510512351989746\n",
            "epoch: 85 loss: 8.51003646850586\n",
            "epoch: 86 loss: 8.509559631347656\n",
            "epoch: 87 loss: 8.509086608886719\n",
            "epoch: 88 loss: 8.508615493774414\n",
            "epoch: 89 loss: 8.508145332336426\n",
            "epoch: 90 loss: 8.507678031921387\n",
            "epoch: 91 loss: 8.507210731506348\n",
            "epoch: 92 loss: 8.506745338439941\n",
            "epoch: 93 loss: 8.5062837600708\n",
            "epoch: 94 loss: 8.505821228027344\n",
            "epoch: 95 loss: 8.505363464355469\n",
            "epoch: 96 loss: 8.504903793334961\n",
            "epoch: 97 loss: 8.504449844360352\n",
            "epoch: 98 loss: 8.503995895385742\n",
            "epoch: 99 loss: 8.503543853759766\n"
          ],
          "name": "stdout"
        }
      ]
    },
    {
      "cell_type": "code",
      "metadata": {
        "id": "Yu10q4K3o1W4",
        "colab_type": "code",
        "colab": {
          "base_uri": "https://localhost:8080/",
          "height": 296
        },
        "outputId": "87bacf64-c4a0-4a43-bd81-7da92178efe5"
      },
      "source": [
        "plt.plot(range(epochs), losses)\n",
        "plt.ylabel('Loss')\n",
        "plt.xlabel('epoch')"
      ],
      "execution_count": 47,
      "outputs": [
        {
          "output_type": "execute_result",
          "data": {
            "text/plain": [
              "Text(0.5, 0, 'epoch')"
            ]
          },
          "metadata": {
            "tags": []
          },
          "execution_count": 47
        },
        {
          "output_type": "display_data",
          "data": {
            "image/png": "[encoded data removed]",
            "text/plain": [
              "<Figure size 432x288 with 1 Axes>"
            ]
          },
          "metadata": {
            "tags": [],
            "needs_background": "light"
          }
        }
      ]
    },
    {
      "cell_type": "code",
      "metadata": {
        "id": "sI29dXe_o1pP",
        "colab_type": "code",
        "colab": {
          "base_uri": "https://localhost:8080/",
          "height": 265
        },
        "outputId": "db5521c7-192f-4f36-9be5-d482a1418183"
      },
      "source": [
        "plot_fit(\"Trained Model\")\n",
        "#Now the linear model which has been trained to fit our training data, fits the data really well. "
      ],
      "execution_count": 48,
      "outputs": [
        {
          "output_type": "display_data",
          "data": {
            "image/png": "[encoded data removed]",
            "text/plain": [
              "<Figure size 432x288 with 1 Axes>"
            ]
          },
          "metadata": {
            "tags": [],
            "needs_background": "light"
          }
        }
      ]
    }
  ]
}