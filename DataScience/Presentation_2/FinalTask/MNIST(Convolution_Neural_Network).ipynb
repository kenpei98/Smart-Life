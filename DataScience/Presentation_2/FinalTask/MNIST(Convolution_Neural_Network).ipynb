{
  "nbformat": 4,
  "nbformat_minor": 0,
  "metadata": {
    "colab": {
      "name": "MNIST(Convolution Neural Network).ipynb",
      "provenance": [],
      "collapsed_sections": []
    },
    "kernelspec": {
      "name": "python3",
      "display_name": "Python 3"
    },
    "accelerator": "GPU"
  },
  "cells": [
    {
      "cell_type": "code",
      "metadata": {
        "id": "FTggdlrLWhCb",
        "colab_type": "code",
        "outputId": "157326f5-c810-4c23-fff7-65e4e2766b0c",
        "colab": {
          "base_uri": "https://localhost:8080/",
          "height": 102
        }
      },
      "source": [
        "!pip3 install torch torchvision"
      ],
      "execution_count": 1,
      "outputs": [
        {
          "output_type": "stream",
          "text": [
            "Requirement already satisfied: torch in /usr/local/lib/python3.6/dist-packages (1.5.0+cu101)\n",
            "Requirement already satisfied: torchvision in /usr/local/lib/python3.6/dist-packages (0.6.0+cu101)\n",
            "Requirement already satisfied: numpy in /usr/local/lib/python3.6/dist-packages (from torch) (1.18.3)\n",
            "Requirement already satisfied: future in /usr/local/lib/python3.6/dist-packages (from torch) (0.16.0)\n",
            "Requirement already satisfied: pillow>=4.1.1 in /usr/local/lib/python3.6/dist-packages (from torchvision) (7.0.0)\n"
          ],
          "name": "stdout"
        }
      ]
    },
    {
      "cell_type": "markdown",
      "metadata": {
        "id": "dd_oRwyDuW2Y",
        "colab_type": "text"
      },
      "source": [
        "**Importing Relevant Libraries:**"
      ]
    },
    {
      "cell_type": "code",
      "metadata": {
        "id": "G_GZ2DURdCa4",
        "colab_type": "code",
        "colab": {}
      },
      "source": [
        "import torch\n",
        "#torchvision is a standard package which contain lots of datasets include MNIST dataset.It also consists of transformations, transformations are commonly \n",
        "#applied to these images in order to pre-process them before fit into a neural network.\n",
        "from torchvision import datasets, transforms \n",
        "import matplotlib.pyplot as plt\n",
        "import numpy as np\n",
        "from torch import nn\n",
        "import torch.nn.functional as F"
      ],
      "execution_count": 0,
      "outputs": []
    },
    {
      "cell_type": "markdown",
      "metadata": {
        "id": "SeOkVbReuicg",
        "colab_type": "text"
      },
      "source": [
        "**Initializing GPU Usage**"
      ]
    },
    {
      "cell_type": "code",
      "metadata": {
        "id": "jxuNTWYDYk7B",
        "colab_type": "code",
        "colab": {}
      },
      "source": [
        "device = torch.device('cuda:0' if torch.cuda.is_available() else \"cpu\")"
      ],
      "execution_count": 0,
      "outputs": []
    },
    {
      "cell_type": "markdown",
      "metadata": {
        "id": "f-fkq-9FutZ_",
        "colab_type": "text"
      },
      "source": [
        "**Load Training and Validation Dataset, Transformations, Loader**"
      ]
    },
    {
      "cell_type": "code",
      "metadata": {
        "id": "dWG8Fak-dClO",
        "colab_type": "code",
        "colab": {}
      },
      "source": [
        "#transforms.Compose means to chain transformations together. transforms.ToTensor() will convert the numpy array in the range of 0-255 to a float tensor in\n",
        "#the range 0-1 encode in a tensor shape (Channel, Height, Width). transforms.Normalize() will normalized the values for each tensor of image size channel height\n",
        "#and width. The first bracket is mean=0.5, second bracket is s.d.=0.5.\n",
        "transform = transforms.Compose([\n",
        "                                transforms.Resize((28,28)),\n",
        "                                transforms.ToTensor(),\n",
        "                                transforms.Normalize([0.5],[0.5])]) #Normalize, set value 0.5 since we want the range 0 - 1 change to range -1 - 1.\n",
        "\n",
        "#In this MNIST dataset, each image is 28*28 grayscale image which means each image is 2D numpy array, it's 28 pixel wide and 28 pixel long, each pixel in the range 0-255.\n",
        "training_dataset = datasets.MNIST(root='./data', train=True, download=True, transform = transform)#transform dictates any image manipulations that you wish to apply on the images.\n",
        "#training_dataset\n",
        "\n",
        "validation_dataset = datasets.MNIST(root='./data', train=False, download=True, transform = transform)\n",
        "\n",
        "#loader image\n",
        "training_loader = torch.utils.data.DataLoader(dataset=training_dataset, batch_size=100, shuffle=True) \n",
        "#Since batch_size=100, we have total of 60000 training set, it will take roughly 600 iteration to complete one epoch. It will update the weight of neural network for each iteration to minimize the error.\n",
        "#Remember to shuffle the training data before each epoch.\n",
        "\n",
        "validation_loader = torch.utils.data.DataLoader(validation_dataset, batch_size=100, shuffle=False) #validation_loader is only for testing purposes, not have to \n",
        "#shuffle, since it's not use to train the model, it instead use for testing the model."
      ],
      "execution_count": 0,
      "outputs": []
    },
    {
      "cell_type": "markdown",
      "metadata": {
        "id": "Ix4v94tLvK8C",
        "colab_type": "text"
      },
      "source": [
        "**Numpy Image Conversion Function**"
      ]
    },
    {
      "cell_type": "code",
      "metadata": {
        "id": "GUZRbp5kdCvP",
        "colab_type": "code",
        "colab": {}
      },
      "source": [
        "#Since we want to plot the image use matplotlib, we need to convert the image from tensor into numpy array.\n",
        "#tensor.clone makes a new copy of the tensor. image.transpose(color channel, width, height), since this is grayscale image which only have one color,\n",
        "#thus the color channel = 1, the shape now is (1,28,28). To plot the image, we required (28,28,1) shape. Thus swap the first one to be the last one...\n",
        "def im_convert(tensor):\n",
        "  image = tensor.cpu().clone().detach().numpy()\n",
        "  image = image.transpose(1,2,0)\n",
        "  #print(image.shape)\n",
        "  \n",
        "  #denormalize\n",
        "  image = image * np.array((0.5,0.5,0.5)) + np.array((0.5,0.5,0.5))  #normalize = (x-mean)/sd   denormalize = (x*sd)+mean\n",
        "  image = image.clip(0,1) #previously, we have range between -1 and 1, now change the range between 0 and 1 use clip().\n",
        "  return image\n",
        "\n"
      ],
      "execution_count": 0,
      "outputs": []
    },
    {
      "cell_type": "markdown",
      "metadata": {
        "id": "ThDKzY-pvTDT",
        "colab_type": "text"
      },
      "source": [
        "**Plotting Image Data**"
      ]
    },
    {
      "cell_type": "code",
      "metadata": {
        "id": "e9eQESLWi8Wp",
        "colab_type": "code",
        "outputId": "66bb7e6f-4127-46bc-f544-7465c544084b",
        "colab": {
          "base_uri": "https://localhost:8080/",
          "height": 254
        }
      },
      "source": [
        "dataiter = iter(training_loader) \n",
        "images, labels = dataiter.next() ##Go through the training loader and access one element at a time by calling next(). Like it will grab the first batch of our training data. And split into images and labels for that training data.\n",
        "fig = plt.figure(figsize=(25,4)) #specify the width and height of the figure.\n",
        "\n",
        "for idx in np.arange(20):\n",
        "  ax = fig.add_subplot(2,10, idx+1, xticks=[], yticks=[]) #2 rows, 10 columns, start at index 1 which (idx+1).\n",
        "  plt.imshow(im_convert(images[idx]))\n",
        "  ax.set_title([labels[idx].item()])\n"
      ],
      "execution_count": 6,
      "outputs": [
        {
          "output_type": "display_data",
          "data": {
            "image/png": "[encoded data removed]",
            "text/plain": [
              "<Figure size 1800x288 with 20 Axes>"
            ]
          },
          "metadata": {
            "tags": []
          }
        }
      ]
    },
    {
      "cell_type": "markdown",
      "metadata": {
        "id": "WZqEy-Q3vaLH",
        "colab_type": "text"
      },
      "source": [
        "**Model Class Constructor**"
      ]
    },
    {
      "cell_type": "code",
      "metadata": {
        "id": "hD1BKrieWKKL",
        "colab_type": "code",
        "colab": {}
      },
      "source": [
        "#Create Custom Model:\n",
        "#Setting model constructor\n",
        "class LeNet(nn.Module):\n",
        "  def __init__(self): \n",
        "    super().__init__()\n",
        "    self.conv1 = nn.Conv2d(1,20,5,1) #Define Convolution Layer\n",
        "    #nn.Conv2d(1,20,5,1): 1: means as the input going into conv1 has only 1 channel. 20: the number of output channels for effective feature extraction.\n",
        "    #5: kernel(filter) size, last 1: stride size\n",
        "    self.conv2 = nn.Conv2d(20,50,5,1) #50: output layer now is 50, which means the depth is 50.\n",
        "    #First we start with a depth of 1 (grayscale image with only 1 channel, then we move to a depth of 20)\n",
        "    self.fc1 = nn.Linear(4*4*50,500) #Fully Connected Layer\n",
        "    self.dropout1 = nn.Dropout(0.5)\n",
        "    self.fc2 = nn.Linear(500,10)\n",
        "  def forward(self, x):\n",
        "    x = F.relu(self.conv1(x))\n",
        "    x = F.max_pool2d(x,2,2) #max_pooling layer. First argument is feed forward x value. Next two arguments define the size of max pooling kernel which we \n",
        "    #use 2*2 kernel to cut the image size in half, but still maintain effective feature extraction.\n",
        "    x = F.relu(self.conv2(x))\n",
        "    x = F.max_pool2d(x,2,2)\n",
        "    x = x.view(-1, 4*4*50) #We will flatten before going to fully connected layer. 4*4*50 is number of rows\n",
        "    x = F.relu(self.fc1(x))\n",
        "    x = self.dropout1(x)\n",
        "    x = self.fc2(x)\n",
        "    return x\n"
      ],
      "execution_count": 0,
      "outputs": []
    },
    {
      "cell_type": "code",
      "metadata": {
        "id": "5ytxIvzjWKVf",
        "colab_type": "code",
        "outputId": "d3c40365-0af5-49fb-a9cb-475a6ead6509",
        "colab": {
          "base_uri": "https://localhost:8080/",
          "height": 136
        }
      },
      "source": [
        "model = LeNet().to(device)\n",
        "model\n",
        "\n"
      ],
      "execution_count": 8,
      "outputs": [
        {
          "output_type": "execute_result",
          "data": {
            "text/plain": [
              "LeNet(\n",
              "  (conv1): Conv2d(1, 20, kernel_size=(5, 5), stride=(1, 1))\n",
              "  (conv2): Conv2d(20, 50, kernel_size=(5, 5), stride=(1, 1))\n",
              "  (fc1): Linear(in_features=800, out_features=500, bias=True)\n",
              "  (dropout1): Dropout(p=0.5, inplace=False)\n",
              "  (fc2): Linear(in_features=500, out_features=10, bias=True)\n",
              ")"
            ]
          },
          "metadata": {
            "tags": []
          },
          "execution_count": 8
        }
      ]
    },
    {
      "cell_type": "code",
      "metadata": {
        "id": "KugCVgUGWKbD",
        "colab_type": "code",
        "colab": {}
      },
      "source": [
        "#Loss function in our model\n",
        "criterion = nn.CrossEntropyLoss() #This loss function used for multiclass classification.\n",
        "#optimizer\n",
        "optimizer = torch.optim.Adam(model.parameters(), lr=0.0001) #lr is learning rater"
      ],
      "execution_count": 0,
      "outputs": []
    },
    {
      "cell_type": "code",
      "metadata": {
        "id": "6VLy3sp4WKg_",
        "colab_type": "code",
        "outputId": "a5313e9b-cbe6-4e15-95cb-d37c004d6756",
        "colab": {
          "base_uri": "https://localhost:8080/",
          "height": 782
        }
      },
      "source": [
        "#specify number of epochs\n",
        "epochs = 15\n",
        "running_loss_history = []\n",
        "running_corrects_history = []\n",
        "val_running_loss_history = []\n",
        "val_running_corrects_history = []\n",
        "\n",
        "for e in range(epochs):\n",
        "\n",
        "  running_loss = 0.0\n",
        "  running_corrects = 0.0\n",
        "  val_running_loss = 0.0\n",
        "  val_running_corrects = 0.0\n",
        "\n",
        "  for inputs, labels in training_loader:\n",
        "    inputs = inputs.to(device)\n",
        "    labels = labels.to(device)\n",
        "    outputs = model(inputs) #contain bunch of score values and it follows the class wich contains the highest score by passing it into the softmax.\n",
        "    loss = criterion(outputs, labels) #Compare predicted outputs and labels and determine error base on CrossEntropy\n",
        "\n",
        "    optimizer.zero_grad()\n",
        "    loss.backward()\n",
        "    optimizer.step()\n",
        "\n",
        "    _, preds = torch.max(outputs, 1) #preds is return the index of the maximum value for that image.\n",
        "    running_loss += loss.item() #The current loss at batch iteration\n",
        "    running_corrects += torch.sum(preds == labels.data) #See how many got correct\n",
        "\n",
        "\n",
        "  else: #the else statement will start after for loop finish which means we iterated through every single batch of images.\n",
        "    with torch.no_grad():\n",
        "      for val_inputs, val_labels in validation_loader:\n",
        "         val_inputs = val_inputs.to(device)\n",
        "         val_labels = val_labels.to(device)\n",
        "         val_outputs = model(val_inputs)\n",
        "         val_loss = criterion(val_outputs, val_labels)\n",
        "\n",
        "         _, val_preds = torch.max(val_outputs, 1)\n",
        "         val_running_loss += val_loss.item() \n",
        "         val_running_corrects += torch.sum(val_preds == val_labels.data)\n",
        "   \n",
        "    \n",
        "  \n",
        "\n",
        "\n",
        "    epoch_loss = running_loss/len(training_loader) #print accumulated loss that's compute for the entire dataset at the specific epoch. Average loss for epoch\n",
        "    #len(training_loader) = 600. \n",
        "    epoch_acc = running_corrects.float()/len(training_loader) #average accuracy for that epoch\n",
        "    running_loss_history.append(epoch_loss) #Since keep track loss in every single epoch\n",
        "    running_corrects_history.append(epoch_acc)\n",
        "\n",
        "    val_epoch_loss = val_running_loss/len(validation_loader)\n",
        "    val_epoch_acc = val_running_corrects.float()/len(validation_loader)\n",
        "    val_running_loss_history.append(val_epoch_loss)\n",
        "    val_running_corrects_history.append(val_epoch_acc)\n",
        "    print('epoch :', (e+1))\n",
        "    print('training loss: {:.4f}, acc {:.4f}'.format(epoch_loss, epoch_acc.item()))\n",
        "    print('validation loss: {:.4f}, validation acc {:.4f}'.format(val_epoch_loss, val_epoch_acc.item()))\n"
      ],
      "execution_count": 10,
      "outputs": [
        {
          "output_type": "stream",
          "text": [
            "epoch : 1\n",
            "training loss: 0.5703, acc 84.6383\n",
            "validation loss: 0.1838, validation acc 94.6500\n",
            "epoch : 2\n",
            "training loss: 0.1466, acc 95.6500\n",
            "validation loss: 0.1041, validation acc 96.9200\n",
            "epoch : 3\n",
            "training loss: 0.0982, acc 97.0933\n",
            "validation loss: 0.0769, validation acc 97.6500\n",
            "epoch : 4\n",
            "training loss: 0.0773, acc 97.6733\n",
            "validation loss: 0.0608, validation acc 98.1900\n",
            "epoch : 5\n",
            "training loss: 0.0634, acc 98.1133\n",
            "validation loss: 0.0566, validation acc 98.2200\n",
            "epoch : 6\n",
            "training loss: 0.0557, acc 98.3000\n",
            "validation loss: 0.0457, validation acc 98.5000\n",
            "epoch : 7\n",
            "training loss: 0.0487, acc 98.4933\n",
            "validation loss: 0.0430, validation acc 98.5500\n",
            "epoch : 8\n",
            "training loss: 0.0440, acc 98.6617\n",
            "validation loss: 0.0397, validation acc 98.6500\n",
            "epoch : 9\n",
            "training loss: 0.0406, acc 98.7617\n",
            "validation loss: 0.0397, validation acc 98.7300\n",
            "epoch : 10\n",
            "training loss: 0.0359, acc 98.9083\n",
            "validation loss: 0.0373, validation acc 98.7100\n",
            "epoch : 11\n",
            "training loss: 0.0338, acc 98.9683\n",
            "validation loss: 0.0359, validation acc 98.8200\n",
            "epoch : 12\n",
            "training loss: 0.0304, acc 99.0750\n",
            "validation loss: 0.0359, validation acc 98.7700\n",
            "epoch : 13\n",
            "training loss: 0.0285, acc 99.1400\n",
            "validation loss: 0.0304, validation acc 99.0700\n",
            "epoch : 14\n",
            "training loss: 0.0258, acc 99.1933\n",
            "validation loss: 0.0318, validation acc 98.9300\n",
            "epoch : 15\n",
            "training loss: 0.0248, acc 99.2367\n",
            "validation loss: 0.0311, validation acc 98.9700\n"
          ],
          "name": "stdout"
        }
      ]
    },
    {
      "cell_type": "code",
      "metadata": {
        "id": "2MLVCqdimhbE",
        "colab_type": "code",
        "outputId": "c5800cf1-6ea6-4364-c79b-7ba57a1549de",
        "colab": {
          "base_uri": "https://localhost:8080/",
          "height": 282
        }
      },
      "source": [
        "plt.plot(running_loss_history, label='training loss')\n",
        "plt.plot(val_running_loss_history, label = 'validation loss')\n",
        "plt.legend()"
      ],
      "execution_count": 11,
      "outputs": [
        {
          "output_type": "execute_result",
          "data": {
            "text/plain": [
              "<matplotlib.legend.Legend at 0x7fe94983fba8>"
            ]
          },
          "metadata": {
            "tags": []
          },
          "execution_count": 11
        },
        {
          "output_type": "display_data",
          "data": {
            "image/png": "[encoded data removed]",
            "text/plain": [
              "<Figure size 432x288 with 1 Axes>"
            ]
          },
          "metadata": {
            "tags": [],
            "needs_background": "light"
          }
        }
      ]
    },
    {
      "cell_type": "code",
      "metadata": {
        "id": "CF-MgGnanu8s",
        "colab_type": "code",
        "outputId": "aeae6d4f-cbc8-4245-c6b2-463b181a2163",
        "colab": {
          "base_uri": "https://localhost:8080/",
          "height": 282
        }
      },
      "source": [
        "plt.plot(running_corrects_history, label = 'training accuracy')\n",
        "plt.plot(val_running_corrects_history, label = 'validation accuracy')\n",
        "plt.legend()"
      ],
      "execution_count": 12,
      "outputs": [
        {
          "output_type": "execute_result",
          "data": {
            "text/plain": [
              "<matplotlib.legend.Legend at 0x7fe948cda9e8>"
            ]
          },
          "metadata": {
            "tags": []
          },
          "execution_count": 12
        },
        {
          "output_type": "display_data",
          "data": {
            "image/png": "[encoded data removed]",
            "text/plain": [
              "<Figure size 432x288 with 1 Axes>"
            ]
          },
          "metadata": {
            "tags": [],
            "needs_background": "light"
          }
        }
      ]
    },
    {
      "cell_type": "code",
      "metadata": {
        "id": "nZL2XRojCbq2",
        "colab_type": "code",
        "outputId": "f7a3557d-577d-4aca-f6e7-aae8736bac9c",
        "colab": {
          "base_uri": "https://localhost:8080/",
          "height": 286
        }
      },
      "source": [
        "#Test our model by grab a image from the web\n",
        "import requests\n",
        "from PIL import Image #PIL is Python Image Library\n",
        "url = 'https://images.homedepot-static.com/productImages/007164ea-d47e-4f66-8d8c-fd9f621984a2/svn/architectural-mailboxes-house-letters-numbers-3585b-5-64_1000.jpg'\n",
        "response = requests.get(url,stream=True) #retrieve image\n",
        "img = Image.open(response.raw) #identify the raw contents of the response variable\n",
        "plt.imshow(img)\n",
        "#print(response)"
      ],
      "execution_count": 13,
      "outputs": [
        {
          "output_type": "execute_result",
          "data": {
            "text/plain": [
              "<matplotlib.image.AxesImage at 0x7fe948d652e8>"
            ]
          },
          "metadata": {
            "tags": []
          },
          "execution_count": 13
        },
        {
          "output_type": "display_data",
          "data": {
            "image/png": "[encoded data removed]",
            "text/plain": [
              "<Figure size 432x288 with 1 Axes>"
            ]
          },
          "metadata": {
            "tags": [],
            "needs_background": "light"
          }
        }
      ]
    },
    {
      "cell_type": "code",
      "metadata": {
        "id": "uuEv__FzCb3v",
        "colab_type": "code",
        "outputId": "d26409d1-4ac0-48d6-bab0-903fca6eaff1",
        "colab": {
          "base_uri": "https://localhost:8080/",
          "height": 282
        }
      },
      "source": [
        "#We need to preprocess image before fit into the model, since our model only recognize image in 28*28 black background with white color digits.\n",
        "import PIL.ImageOps \n",
        "img = PIL.ImageOps.invert(img) #invert the color of the image, image then become black background, white foreground.\n",
        "img = img.convert('1') #Also, since the image from web is a RGB format with 3 channel pixwl intensity values instead of grayscale image.\n",
        "img = transform(img) #Inside transform there is a resize which change the range of image to 28*28.\n",
        "plt.imshow(im_convert(img))"
      ],
      "execution_count": 14,
      "outputs": [
        {
          "output_type": "execute_result",
          "data": {
            "text/plain": [
              "<matplotlib.image.AxesImage at 0x7fe9417fb710>"
            ]
          },
          "metadata": {
            "tags": []
          },
          "execution_count": 14
        },
        {
          "output_type": "display_data",
          "data": {
            "image/png": "[encoded data removed]",
            "text/plain": [
              "<Figure size 432x288 with 1 Axes>"
            ]
          },
          "metadata": {
            "tags": [],
            "needs_background": "light"
          }
        }
      ]
    },
    {
      "cell_type": "code",
      "metadata": {
        "id": "M4iXNPdxCcBN",
        "colab_type": "code",
        "outputId": "a0f6a2a3-c08a-4da6-8d6e-b7cca31ad506",
        "colab": {
          "base_uri": "https://localhost:8080/",
          "height": 34
        }
      },
      "source": [
        "images = img.to(device)\n",
        "image = images[0].unsqueeze(0).unsqueeze(0)\n",
        "output = model(image) #result a score\n",
        "_, pred = torch.max(output, 1) #take class with highest score\n",
        "print(pred.item())\n"
      ],
      "execution_count": 15,
      "outputs": [
        {
          "output_type": "stream",
          "text": [
            "5\n"
          ],
          "name": "stdout"
        }
      ]
    },
    {
      "cell_type": "code",
      "metadata": {
        "id": "Vq5z1YHPFxbj",
        "colab_type": "code",
        "outputId": "dfc6f356-52d0-414d-b60b-59c8e8f3718d",
        "colab": {
          "base_uri": "https://localhost:8080/",
          "height": 254
        }
      },
      "source": [
        "dataiter = iter(validation_loader) \n",
        "images, labels = dataiter.next() \n",
        "images = images.to(device)\n",
        "labels = labels.to(device)\n",
        "output = model(images)\n",
        "_, preds = torch.max(output, 1)\n",
        "\n",
        "fig = plt.figure(figsize=(25,4))\n",
        "\n",
        "for idx in np.arange(20):\n",
        "  ax = fig.add_subplot(2,10, idx+1, xticks=[], yticks=[]) #2 rows, 10 columns, start at index 1 which (idx+1).\n",
        "  plt.imshow(im_convert(images[idx]))\n",
        "  ax.set_title(\"{} ({})\".format(str(preds[idx].item()), str(labels[idx].item())), color=(\"green\" if preds[idx] == labels[idx] else \"red\"))"
      ],
      "execution_count": 19,
      "outputs": [
        {
          "output_type": "display_data",
          "data": {
            "image/png": "[encoded data removed]",
            "text/plain": [
              "<Figure size 1800x288 with 20 Axes>"
            ]
          },
          "metadata": {
            "tags": []
          }
        }
      ]
    }
  ]
}